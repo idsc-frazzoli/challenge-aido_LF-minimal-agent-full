{
 "cells": [
  {
   "cell_type": "code",
   "execution_count": 25,
   "metadata": {},
   "outputs": [],
   "source": [
    "from random import choice\n",
    "import contracts\n",
    "import numpy as np\n",
    "from geometry import translation_angle_from_SE2\n",
    "\n",
    "contracts.disable_all()\n",
    "from duckietown_world import SE2Transform\n",
    "import duckietown_world as dw\n",
    "from duckietown_world.svg_drawing.ipython_utils import ipython_draw_html\n",
    "\n",
    "dw.logger.setLevel(50)\n"
   ]
  },
  {
   "cell_type": "markdown",
   "metadata": {},
   "source": [
    "First, we load a map."
   ]
  },
  {
   "cell_type": "code",
   "execution_count": 26,
   "metadata": {
    "pycharm": {
     "name": "#%%\n"
    }
   },
   "outputs": [
    {
     "name": "stdout",
     "output_type": "stream",
     "text": [
      "['udem1', 'regress_4way_drivable', 'loop_empty', 'small_loop', 'regress_4way_adam', 'loop_dyn_duckiebots', 'ETH_small_loop_3', 'straight_road_down', 'field1', 'ETH_large_loop', 'udem1_empty', '4way_bordered', 'experiment_loop', 'calibration_map_ext', 'loop_pedestrians', 'ETH_small_loop_1', 'ETHZ_autolab_technical_track', 'TTIC_ripltown', 'calibration_map_int', 'small_loop_bordered', 'zigzag_dists_bordered', 'ETHZ_loop', 'TTIC_large_loop', 'ETH_small_loop_2', 'robotarium1', 'ETHZ_autolab_fast_track', '4way', 'TTIC_loop', 'ETHZ_loop_bordered', 'small_loop_cw', 'ETHZ_autolab_technical_track_bordered', 'Montreal_loop', 'ETH_intersection_map', 'straight_road', 'robotarium2', 'MOOC_modcon', 'ETH_small_loop_2_bordered', 'loop_obstacles', 'zigzag_dists']\n",
      "Loading loop_obstacles\n"
     ]
    },
    {
     "name": "stderr",
     "output_type": "stream",
     "text": [
      "INFO:duckietown_world: area: RectangularArea(pmin=[-0.155 -0.151],pmax=[ 6.01499996 11.06117927])\n",
      "DEBUG:commons.fs:Written 4.2MB to: out/ipython_draw_html/139813293471920/drawing.html\n",
      "INFO:duckietown_world:Written SVG\n",
      " fn_svg: out/ipython_draw_html/139813293471920/drawing.svg\n"
     ]
    },
    {
     "data": {
      "text/plain": "<IPython.lib.display.IFrame at 0x7f28d4de1430>",
      "text/html": "\n        <iframe\n            width=\"100%\"\n            height=\"600\"\n            src=\"out/ipython_draw_html/139813293471920/drawing.html\"\n            frameborder=\"0\"\n            allowfullscreen\n        ></iframe>\n        "
     },
     "metadata": {},
     "output_type": "display_data"
    }
   ],
   "source": [
    "available_map = dw.list_maps()\n",
    "print(available_map)\n",
    "map_name = choice(available_map)\n",
    "print(f\"Loading {map_name}\")\n",
    "m = dw.load_map(\"robotarium2\")\n",
    "sk = dw.get_skeleton_graph(m)\n",
    "ipython_draw_html(m);"
   ]
  },
  {
   "cell_type": "markdown",
   "metadata": {
    "pycharm": {
     "name": "#%% md\n"
    }
   },
   "source": [
    "Now let's sample an initial pose."
   ]
  },
  {
   "cell_type": "code",
   "execution_count": 27,
   "metadata": {
    "pycharm": {
     "name": "#%%\n"
    }
   },
   "outputs": [
    {
     "name": "stdout",
     "output_type": "stream",
     "text": [
      "SE2Transform([0.42147296667099, 6.446694374084473],85.9)\n"
     ]
    }
   ],
   "source": [
    "from duckietown_world.world_duckietown.sampling_poses import sample_good_starting_pose\n",
    "\n",
    "q = sample_good_starting_pose(m, only_straight=False, along_lane=0.02)\n",
    "print(SE2Transform.from_SE2(q))"
   ]
  },
  {
   "cell_type": "markdown",
   "metadata": {
    "pycharm": {
     "name": "#%% md\n"
    }
   },
   "source": [
    "We use the `get_lane_pose` function to get the list of lanes in which the Duckiebot could be."
   ]
  },
  {
   "cell_type": "code",
   "execution_count": 28,
   "metadata": {
    "pycharm": {
     "name": "#%%\n"
    }
   },
   "outputs": [
    {
     "name": "stdout",
     "output_type": "stream",
     "text": [
      "There are 1 possibilities\n",
      "[SE2Transform([-0.5, -0.22],0.0), SE2Transform([-0.3, -0.3],-45.0), SE2Transform([-0.22, -0.5],-90.0)]\n",
      "[SE2Transform([0.421199984550476, 6.434999972581863],90.0), SE2Transform([0.46799998283386224, 6.551999968290329],45.0), SE2Transform([0.5849999785423279, 6.598799966573715],-0.0)]\n",
      "looking for a match of  SE2Transform([0.5849999785423279, 6.598799966573715],-0.0)\n",
      "candidate:  SE2Transform([1.5911999714374543, 9.944999247789383],90.0)\n",
      "candidate:  SE2Transform([1.33379998087883, 9.944999247789383],-90.0)\n",
      "candidate:  SE2Transform([5.6861998808383944, 9.944999247789383],90.0)\n",
      "candidate:  SE2Transform([5.42879989027977, 9.944999247789383],-90.0)\n",
      "candidate:  SE2Transform([1.33379998087883, 9.35999920964241],-90.0)\n",
      "candidate:  SE2Transform([1.754999965429306, 9.523799203634262],-0.0)\n",
      "candidate:  SE2Transform([1.754999965429306, 9.781199194192887],-180.0)\n",
      "candidate:  SE2Transform([1.591199971437454, 9.35999920964241],90.0)\n",
      "candidate:  SE2Transform([5.264999836683273, 9.523799203634262],0.0)\n",
      "candidate:  SE2Transform([5.264999836683273, 9.781199194192887],-180.0)\n",
      "candidate:  SE2Transform([5.6861998808383944, 9.35999920964241],90.0)\n",
      "candidate:  SE2Transform([5.42879989027977, 9.35999920964241],-90.0)\n",
      "candidate:  SE2Transform([1.5911999714374543, 8.775000125169754],90.0)\n",
      "candidate:  SE2Transform([1.33379998087883, 8.775000125169754],-90.0)\n",
      "candidate:  SE2Transform([1.33379998087883, 8.190000087022781],-90.0)\n",
      "candidate:  SE2Transform([1.754999965429306, 8.353800081014633],-0.0)\n",
      "candidate:  SE2Transform([1.754999965429306, 8.611200071573258],-180.0)\n",
      "candidate:  SE2Transform([1.591199971437454, 8.190000087022781],90.0)\n",
      "candidate:  SE2Transform([1.5911999714374543, 7.019999533891678],90.0)\n",
      "candidate:  SE2Transform([1.33379998087883, 7.019999533891678],-90.0)\n",
      "candidate:  SE2Transform([1.1699999272823334, 6.598799966573715],0.0)\n",
      "candidate:  SE2Transform([1.1699999272823334, 6.85619995713234],-180.0)\n",
      "candidate:  SE2Transform([1.5911999714374543, 6.434999972581863],90.0)\n",
      "candidate:  SE2Transform([1.33379998087883, 6.434999972581863],-90.0)\n",
      "candidate:  SE2Transform([0.421199984550476, 5.849999934434891],90.0)\n",
      "candidate:  SE2Transform([0.16379999399185174, 5.849999934434891],-90.0)\n",
      "candidate:  SE2Transform([1.5911999714374543, 5.849999934434891],90.0)\n",
      "candidate:  SE2Transform([1.33379998087883, 5.849999934434891],-90.0)\n",
      "candidate:  SE2Transform([0.16379999399185174, 5.264999896287918],-90.0)\n",
      "candidate:  SE2Transform([0.5849999785423279, 5.42879989027977],-0.0)\n",
      "candidate:  SE2Transform([0.5849999785423279, 5.6861998808383944],-180.0)\n",
      "candidate:  SE2Transform([0.421199984550476, 5.264999896287918],90.0)\n",
      "candidate:  SE2Transform([1.1699999272823334, 5.42879989027977],0.0)\n",
      "candidate:  SE2Transform([1.1699999272823334, 5.6861998808383944],-180.0)\n",
      "candidate:  SE2Transform([1.5911999714374543, 5.264999896287918],90.0)\n",
      "candidate:  SE2Transform([1.33379998087883, 5.264999896287918],-90.0)\n",
      "candidate:  SE2Transform([1.1699999272823334, 3.3461999666690825],-180.0)\n",
      "candidate:  SE2Transform([1.1699999272823334, 3.088799976110458],-0.0)\n",
      "candidate:  SE2Transform([1.754999965429306, 3.3461999666690825],-180.0)\n",
      "candidate:  SE2Transform([1.33379998087883, 2.9249999821186066],-90.0)\n",
      "candidate:  SE2Transform([1.5911999714374543, 2.9249999821186066],90.0)\n",
      "candidate:  SE2Transform([1.754999965429306, 3.0887999761104585],-0.0)\n",
      "candidate:  SE2Transform([0.421199984550476, 2.339999943971634],90.0)\n",
      "candidate:  SE2Transform([0.16379999399185174, 2.339999943971634],-90.0)\n",
      "candidate:  SE2Transform([1.5911999714374543, 2.339999943971634],90.0)\n",
      "candidate:  SE2Transform([1.33379998087883, 2.339999943971634],-90.0)\n",
      "candidate:  SE2Transform([2.76119992852211, 2.339999943971634],90.0)\n",
      "candidate:  SE2Transform([2.5037999379634854, 2.339999943971634],-90.0)\n",
      "candidate:  SE2Transform([0.16379999399185174, 1.7549999058246613],-90.0)\n",
      "candidate:  SE2Transform([0.5849999785423279, 1.918799899816513],-0.0)\n",
      "candidate:  SE2Transform([0.5849999785423279, 2.176199890375137],-180.0)\n",
      "candidate:  SE2Transform([0.421199984550476, 1.7549999058246613],90.0)\n",
      "candidate:  SE2Transform([1.1699999272823334, 2.176199890375137],-180.0)\n",
      "candidate:  SE2Transform([1.1699999272823334, 1.918799899816513],-0.0)\n",
      "candidate:  SE2Transform([1.754999965429306, 1.918799899816513],0.0)\n",
      "candidate:  SE2Transform([1.754999965429306, 2.176199890375137],-180.0)\n",
      "candidate:  SE2Transform([2.339999884366989, 2.176199890375137],-180.0)\n",
      "candidate:  SE2Transform([2.339999884366989, 1.918799899816513],-0.0)\n",
      "candidate:  SE2Transform([2.76119992852211, 1.7549999058246613],90.0)\n",
      "candidate:  SE2Transform([2.503799937963486, 1.7549999058246613],-90.0)\n",
      "ctr_point:  None\n"
     ]
    },
    {
     "ename": "KeyError",
     "evalue": "None",
     "output_type": "error",
     "traceback": [
      "\u001B[0;31m---------------------------------------------------------------------------\u001B[0m",
      "\u001B[0;31mKeyError\u001B[0m                                  Traceback (most recent call last)",
      "\u001B[0;32m<ipython-input-28-ff7dab9552f8>\u001B[0m in \u001B[0;36m<module>\u001B[0;34m\u001B[0m\n\u001B[1;32m     29\u001B[0m \u001B[0;34m\u001B[0m\u001B[0m\n\u001B[1;32m     30\u001B[0m \u001B[0mprint\u001B[0m\u001B[0;34m(\u001B[0m\u001B[0;34m\"ctr_point: \"\u001B[0m\u001B[0;34m,\u001B[0m \u001B[0mctr_point_id\u001B[0m\u001B[0;34m)\u001B[0m\u001B[0;34m\u001B[0m\u001B[0;34m\u001B[0m\u001B[0m\n\u001B[0;32m---> 31\u001B[0;31m \u001B[0msucc\u001B[0m \u001B[0;34m=\u001B[0m \u001B[0msk\u001B[0m\u001B[0;34m.\u001B[0m\u001B[0mG\u001B[0m\u001B[0;34m[\u001B[0m\u001B[0mctr_point_id\u001B[0m\u001B[0;34m]\u001B[0m\u001B[0;34m\u001B[0m\u001B[0;34m\u001B[0m\u001B[0m\n\u001B[0m\u001B[1;32m     32\u001B[0m \u001B[0;34m\u001B[0m\u001B[0m\n\u001B[1;32m     33\u001B[0m \u001B[0;34m\u001B[0m\u001B[0m\n",
      "\u001B[0;32m~/gitclone/ICRA21-tutorial-code/challenge-aido_LF-minimal-agent-full/venv/lib/python3.8/site-packages/networkx/classes/graph.py\u001B[0m in \u001B[0;36m__getitem__\u001B[0;34m(self, n)\u001B[0m\n\u001B[1;32m    463\u001B[0m         \u001B[0mAtlasView\u001B[0m\u001B[0;34m(\u001B[0m\u001B[0;34m{\u001B[0m\u001B[0;36m1\u001B[0m\u001B[0;34m:\u001B[0m \u001B[0;34m{\u001B[0m\u001B[0;34m}\u001B[0m\u001B[0;34m}\u001B[0m\u001B[0;34m)\u001B[0m\u001B[0;34m\u001B[0m\u001B[0;34m\u001B[0m\u001B[0m\n\u001B[1;32m    464\u001B[0m         \"\"\"\n\u001B[0;32m--> 465\u001B[0;31m         \u001B[0;32mreturn\u001B[0m \u001B[0mself\u001B[0m\u001B[0;34m.\u001B[0m\u001B[0madj\u001B[0m\u001B[0;34m[\u001B[0m\u001B[0mn\u001B[0m\u001B[0;34m]\u001B[0m\u001B[0;34m\u001B[0m\u001B[0;34m\u001B[0m\u001B[0m\n\u001B[0m\u001B[1;32m    466\u001B[0m \u001B[0;34m\u001B[0m\u001B[0m\n\u001B[1;32m    467\u001B[0m     \u001B[0;32mdef\u001B[0m \u001B[0madd_node\u001B[0m\u001B[0;34m(\u001B[0m\u001B[0mself\u001B[0m\u001B[0;34m,\u001B[0m \u001B[0mnode_for_adding\u001B[0m\u001B[0;34m,\u001B[0m \u001B[0;34m**\u001B[0m\u001B[0mattr\u001B[0m\u001B[0;34m)\u001B[0m\u001B[0;34m:\u001B[0m\u001B[0;34m\u001B[0m\u001B[0;34m\u001B[0m\u001B[0m\n",
      "\u001B[0;32m~/gitclone/ICRA21-tutorial-code/challenge-aido_LF-minimal-agent-full/venv/lib/python3.8/site-packages/networkx/classes/coreviews.py\u001B[0m in \u001B[0;36m__getitem__\u001B[0;34m(self, name)\u001B[0m\n\u001B[1;32m     99\u001B[0m \u001B[0;34m\u001B[0m\u001B[0m\n\u001B[1;32m    100\u001B[0m     \u001B[0;32mdef\u001B[0m \u001B[0m__getitem__\u001B[0m\u001B[0;34m(\u001B[0m\u001B[0mself\u001B[0m\u001B[0;34m,\u001B[0m \u001B[0mname\u001B[0m\u001B[0;34m)\u001B[0m\u001B[0;34m:\u001B[0m\u001B[0;34m\u001B[0m\u001B[0;34m\u001B[0m\u001B[0m\n\u001B[0;32m--> 101\u001B[0;31m         \u001B[0;32mreturn\u001B[0m \u001B[0mAdjacencyView\u001B[0m\u001B[0;34m(\u001B[0m\u001B[0mself\u001B[0m\u001B[0;34m.\u001B[0m\u001B[0m_atlas\u001B[0m\u001B[0;34m[\u001B[0m\u001B[0mname\u001B[0m\u001B[0;34m]\u001B[0m\u001B[0;34m)\u001B[0m\u001B[0;34m\u001B[0m\u001B[0;34m\u001B[0m\u001B[0m\n\u001B[0m\u001B[1;32m    102\u001B[0m \u001B[0;34m\u001B[0m\u001B[0m\n\u001B[1;32m    103\u001B[0m     \u001B[0;32mdef\u001B[0m \u001B[0mcopy\u001B[0m\u001B[0;34m(\u001B[0m\u001B[0mself\u001B[0m\u001B[0;34m)\u001B[0m\u001B[0;34m:\u001B[0m\u001B[0;34m\u001B[0m\u001B[0;34m\u001B[0m\u001B[0m\n",
      "\u001B[0;31mKeyError\u001B[0m: None"
     ]
    }
   ],
   "source": [
    "from duckietown_world.world_duckietown import get_lane_poses\n",
    "import numpy as np\n",
    "\n",
    "possibilities = list(get_lane_poses(m, q))\n",
    "print(f\"There are {len(possibilities)} possibilities\")\n",
    "glpr = possibilities[0]\n",
    "from zuper_typing import debug_print\n",
    "\n",
    "ctr_points = glpr.lane_segment.control_points\n",
    "abs_ctr_points = []\n",
    "for ctr_point in ctr_points:\n",
    "    abs_point = SE2Transform.from_SE2(\n",
    "        glpr.lane_segment_transform.asmatrix2d().m @ ctr_point.as_SE2())\n",
    "    abs_ctr_points.append(\n",
    "        abs_point\n",
    "    )\n",
    "\n",
    "print(ctr_points)\n",
    "print(abs_ctr_points)\n",
    "ctr_point_id = None\n",
    "print(\"looking for a match of \", abs_ctr_points[-1])\n",
    "for node_id, node in sk.G.nodes.items():\n",
    "    print(\"candidate: \", node[\"point\"])\n",
    "    if np.allclose(node[\"point\"].p, abs_ctr_points[-1].p, rtol=1.e-3):\n",
    "        ctr_point_id = node_id\n",
    "        print(node[\"point\"].theta)\n",
    "        print(abs_ctr_points[-1].theta)\n",
    "        break\n",
    "\n",
    "print(\"ctr_point: \", ctr_point_id)\n",
    "succ = sk.G[ctr_point_id]\n",
    "\n"
   ]
  },
  {
   "cell_type": "code",
   "execution_count": null,
   "outputs": [],
   "source": [
    "# nodes\n",
    "print(list(sk.G))\n",
    "# edges\n",
    "for n1, n2 in sk.G.edges():\n",
    "    data = sk.G.get_edge_data(n1, n2)\n",
    "    one_lane = data[0]['lane']\n",
    "    print(f'I can go from {n1} to {n2} using lane {one_lane}')\n",
    "\n",
    "#print(sk.root2.children[0])\n",
    "#print(sk.root2.children)\n",
    "#print(sk.G.edges)\n",
    "#print(sk.G0.edges)\n",
    "\n"
   ],
   "metadata": {
    "collapsed": false,
    "pycharm": {
     "name": "#%%\n"
    }
   }
  },
  {
   "cell_type": "code",
   "execution_count": null,
   "metadata": {
    "pycharm": {
     "name": "#%%\n"
    }
   },
   "outputs": [],
   "source": [
    "\n",
    "\n",
    "\n"
   ]
  },
  {
   "cell_type": "code",
   "execution_count": null,
   "metadata": {
    "pycharm": {
     "name": "#%%"
    }
   },
   "outputs": [],
   "source": []
  }
 ],
 "metadata": {
  "kernelspec": {
   "display_name": "Python 3",
   "language": "python",
   "name": "python3"
  },
  "language_info": {
   "codemirror_mode": {
    "name": "ipython",
    "version": 3
   },
   "file_extension": ".py",
   "mimetype": "text/x-python",
   "name": "python",
   "nbconvert_exporter": "python",
   "pygments_lexer": "ipython3",
   "version": "3.8.5"
  }
 },
 "nbformat": 4,
 "nbformat_minor": 1
}
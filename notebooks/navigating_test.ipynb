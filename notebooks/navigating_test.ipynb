{
 "cells": [
  {
   "cell_type": "code",
   "execution_count": 1,
   "metadata": {
    "pycharm": {
     "is_executing": false
    }
   },
   "outputs": [
    {
     "name": "stderr",
     "output_type": "stream",
     "text": [
      "DEBUG:commons:version: 6.1.7 *\n",
      "INFO:typing:version: 6.1.8\n",
      "DEBUG:duckietown_world:duckietown-world version 6.2.18 path /home/ale/gitclone/duckietown-world/src\n",
      "INFO:geometry:version: 2.0.5\n",
      "DEBUG:aido_schemas:aido-protocols version 6.0.41 path /home/ale/gitclone/duckietown-world/venv/lib/python3.8/site-packages\n",
      "INFO:nodes:version 6.1.1 path /home/ale/gitclone/duckietown-world/venv/lib/python3.8/site-packages pyparsing 2.4.7\n"
     ]
    }
   ],
   "source": [
    "import contracts\n",
    "contracts.disable_all()\n",
    "import duckietown_world as dw\n",
    "from duckietown_world.svg_drawing.ipython_utils import ipython_draw_html\n",
    "dw.logger.setLevel(50)\n",
    "\n",
    "# get_lane_poses(dw: PlacedObject, q: SE2v, tol=0.000001) -> Iterator[GetLanePoseResult]:\n",
    "\n"
   ]
  },
  {
   "cell_type": "markdown",
   "metadata": {},
   "source": [
    "First, we load a map."
   ]
  },
  {
   "cell_type": "code",
   "execution_count": 2,
   "metadata": {
    "pycharm": {
     "is_executing": false,
     "name": "#%%\n"
    }
   },
   "outputs": [
    {
     "name": "stderr",
     "output_type": "stream",
     "text": [
      "INFO:duckietown_world: data: /home/ale/gitclone/duckietown-world/src/duckietown_world/data\n",
      "INFO:duckietown_world: area: RectangularArea(pmin=[ 0.  -0.1],pmax=[4.44599981 3.86099977])\n",
      "DEBUG:commons.fs:Written 0.4MB to: out/ipython_draw_html/140022858807952/drawing.html\n",
      "INFO:duckietown_world:Written SVG\n",
      " fn_svg: out/ipython_draw_html/140022858807952/drawing.svg\n"
     ]
    },
    {
     "data": {
      "text/html": [
       "\n",
       "        <iframe\n",
       "            width=\"100%\"\n",
       "            height=\"600\"\n",
       "            src=\"out/ipython_draw_html/140022858807952/drawing.html\"\n",
       "            frameborder=\"0\"\n",
       "            allowfullscreen\n",
       "        ></iframe>\n",
       "        "
      ],
      "text/plain": [
       "<IPython.lib.display.IFrame at 0x7f599c9aceb0>"
      ]
     },
     "metadata": {},
     "output_type": "display_data"
    }
   ],
   "source": [
    "m = dw.load_map('loop_obstacles')\n",
    "ipython_draw_html(m);"
   ]
  },
  {
   "cell_type": "markdown",
   "metadata": {
    "pycharm": {
     "name": "#%% md\n"
    }
   },
   "source": [
    "Now let's sample an initial pose."
   ]
  },
  {
   "cell_type": "code",
   "execution_count": 3,
   "metadata": {
    "pycharm": {
     "is_executing": false,
     "name": "#%%\n"
    }
   },
   "outputs": [],
   "source": [
    "from duckietown_world.world_duckietown.sampling_poses import sample_good_starting_pose\n",
    "q = sample_good_starting_pose(m, only_straight=False, along_lane=0.02)"
   ]
  },
  {
   "cell_type": "markdown",
   "metadata": {
    "pycharm": {
     "name": "#%% md\n"
    }
   },
   "source": [
    "We use the `get_lane_pose` function to get the list of lanes in which the Duckiebot could be."
   ]
  },
  {
   "cell_type": "code",
   "execution_count": 4,
   "metadata": {
    "pycharm": {
     "is_executing": false,
     "name": "#%%\n"
    }
   },
   "outputs": [
    {
     "name": "stdout",
     "output_type": "stream",
     "text": [
      "There are 1 possibilities\n",
      "GetLanePoseResult\n",
      "│ \u001B[2mtile\u001B[0m:\n",
      "│ Tile\n",
      "│ │ \u001B[2mchildren\u001B[0m:\n",
      "│ │ dict[1]\n",
      "│ │ │ \u001B[33mcurve_left\u001B[0m:\n",
      "│ │ │ PlacedObject\n",
      "│ │ │ │ \u001B[2mchildren\u001B[0m:\n",
      "│ │ │ │ dict[1]\n",
      "│ │ │ │ │ \u001B[33mcurve\u001B[0m:\n",
      "│ │ │ │ │ PlacedObject\n",
      "│ │ │ │ │ │ \u001B[2mchildren\u001B[0m: {\u001B[33mlane1\u001B[0m: LaneSegment(), \u001B[33mlane2\u001B[0m: LaneSegment()}\n",
      "│ │ │ │ │ │ \u001B[2mspatial_relations\u001B[0m:\n",
      "│ │ │ │ │ │ dict[2]\n",
      "│ │ │ │ │ │ │ \u001B[33mlane1\u001B[0m:\n",
      "│ │ │ │ │ │ │ GroundTruth\n",
      "│ │ │ │ │ │ │ │ \u001B[2ma\u001B[0m: ()\n",
      "│ │ │ │ │ │ │ │ \u001B[2mtransform\u001B[0m: SE2Transform([0.0, 0.0],0.0)\n",
      "│ │ │ │ │ │ │ │ \u001B[2mb\u001B[0m: (lane1,)\n",
      "│ │ │ │ │ │ │ \u001B[33mlane2\u001B[0m:\n",
      "│ │ │ │ │ │ │ GroundTruth\n",
      "│ │ │ │ │ │ │ │ \u001B[2ma\u001B[0m: ()\n",
      "│ │ │ │ │ │ │ │ \u001B[2mtransform\u001B[0m: SE2Transform([0.0, 0.0],90.0)\n",
      "│ │ │ │ │ │ │ │ \u001B[2mb\u001B[0m: (lane2,)\n",
      "│ │ │ │ \u001B[2mspatial_relations\u001B[0m:\n",
      "│ │ │ │ dict[1]\n",
      "│ │ │ │ │ \u001B[33mcurve\u001B[0m:\n",
      "│ │ │ │ │ GroundTruth\n",
      "│ │ │ │ │ │ \u001B[2ma\u001B[0m: ()\n",
      "│ │ │ │ │ │ \u001B[2mtransform\u001B[0m: SE2Transform([0.0, 0.0],270.0)\n",
      "│ │ │ │ │ │ \u001B[2mb\u001B[0m: (curve,)\n",
      "│ │ \u001B[2mspatial_relations\u001B[0m:\n",
      "│ │ dict[1]\n",
      "│ │ │ 1:\n",
      "│ │ │ GroundTruth\n",
      "│ │ │ │ \u001B[2ma\u001B[0m: ()\n",
      "│ │ │ │ \u001B[2mtransform\u001B[0m: SE2Transform([0.0, 0.0],0.0)\n",
      "│ │ │ │ \u001B[2mb\u001B[0m: (curve_left,)\n",
      "│ \u001B[2mtile_fqn\u001B[0m: (tilemap, tile-4-1)\n",
      "│ \u001B[2mtile_transform\u001B[0m: TransformSequence([Scale2D(scale=0.585), TileCoords(i=4,j=1,orientation=E)])\n",
      "│ \u001B[2mtile_relative_pose\u001B[0m:\n",
      "│ Matrix2D(m=[[ 1.7087306  -0.04789471 -0.4800137 ]\n",
      "│  [ 0.04789471  1.7087306  -0.21928385]\n",
      "│  [ 0.          0.          1.        ]])\n",
      "│ \u001B[2mlane_segment\u001B[0m: LaneSegment()\n",
      "│ \u001B[2mlane_segment_fqn\u001B[0m: (tilemap, tile-4-1, curve_left, curve, lane2)\n",
      "│ \u001B[2mlane_pose\u001B[0m: LanePose(inside=True,lateral_inside=True,outside_left=False,outside_right=False,lateral=-3.917683247256498e-08,lateral_left=0.188,lateral_right=-0.188,along_inside=True,along_before=False,along_after=False,along_lane=0.019999788369285544,relative_heading=2.9664514327593947e-07,distance_from_left=0.18800003917683247,distance_from_right=0.18799996082316753,distance_from_center=3.917683247256498e-08,center_point=SE2Transform([-0.4800136937987025, -0.2192838096301046],1.6),correct_direction=True)\n",
      "│ \u001B[2mlane_segment_relative_pose\u001B[0m:\n",
      "│ Matrix2D(m=[[ 1.7087306  -0.04789471 -0.4800137 ]\n",
      "│  [ 0.04789471  1.7087306  -0.21928385]\n",
      "│  [ 0.          0.          1.        ]])\n",
      "│ \u001B[2mtile_coords\u001B[0m: TileCoords(i=4,j=1,orientation=E)\n",
      "│ \u001B[2mlane_segment_transform\u001B[0m: TransformSequence([Scale2D(scale=0.585), TileCoords(i=4,j=1,orientation=E), SE2Transform([0.0, 0.0],0.0), SE2Transform([0.0, 0.0],270.0), SE2Transform([0.0, 0.0],90.0)])\n",
      "│ \u001B[2mcenter_point\u001B[0m:\n",
      "│ Matrix2D(m=[[ 0.5847703  -0.01639059  2.351692  ]\n",
      "│  [ 0.01639059  0.5847703   0.74921894]\n",
      "│  [ 0.          0.          1.        ]])\n"
     ]
    }
   ],
   "source": [
    "from duckietown_world.world_duckietown import get_lane_poses\n",
    "possibilities = list(get_lane_poses(m, q))\n",
    "\n",
    "\n",
    "# for i in range(4):\n",
    "    # m.set_object('db18-%s'% i, dw.DB18(), ground_truth=dw.SE2Transform.from_SE2(q))\n",
    "# ipython_draw_html(m)\n",
    "\n",
    "print(f\"There are {len(possibilities)} possibilities\")\n",
    "lpr = possibilities[0]\n",
    "from zuper_typing import debug_print\n",
    "print(debug_print(lpr)\n",
    "      )"
   ]
  },
  {
   "cell_type": "code",
   "execution_count": null,
   "metadata": {
    "pycharm": {
     "is_executing": false,
     "name": "#%%\n"
    }
   },
   "outputs": [],
   "source": []
  },
  {
   "cell_type": "code",
   "execution_count": null,
   "metadata": {
    "pycharm": {
     "name": "#%%\n"
    }
   },
   "outputs": [],
   "source": [
    "\n"
   ]
  }
 ],
 "metadata": {
  "kernelspec": {
   "display_name": "Python 3",
   "language": "python",
   "name": "python3"
  },
  "language_info": {
   "codemirror_mode": {
    "name": "ipython",
    "version": 3
   },
   "file_extension": ".py",
   "mimetype": "text/x-python",
   "name": "python",
   "nbconvert_exporter": "python",
   "pygments_lexer": "ipython3",
   "version": "3.8.5"
  }
 },
 "nbformat": 4,
 "nbformat_minor": 1
}
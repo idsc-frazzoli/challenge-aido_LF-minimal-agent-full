{
 "cells": [
  {
   "cell_type": "code",
   "execution_count": 2,
   "outputs": [],
   "source": [
    "from duckietown_world.svg_drawing.ipython_utils import ipython_draw_html\n",
    "from gtduckie.controllers import PurePursuit, SpeedController\n",
    "import duckietown_world as dw"
   ],
   "metadata": {
    "collapsed": false,
    "pycharm": {
     "name": "#%%\n"
    }
   }
  },
  {
   "cell_type": "code",
   "execution_count": 3,
   "outputs": [
    {
     "name": "stderr",
     "output_type": "stream",
     "text": [
      "INFO:duckietown_world.world_duckietown:loading map loop_obstacles\n",
      "INFO:duckietown_world: data: /home/ale/gitclone/ICRA21-tutorial-code/challenge-aido_LF-minimal-agent-full/venv/lib/python3.8/site-packages/duckietown_world/data\n",
      "INFO:duckietown_world: area: RectangularArea(pmin=[ 0.  -0.1],pmax=[4.44599981 3.86099977])\n",
      "DEBUG:commons.fs:Written 0.4MB to: out/ipython_draw_html/140089966925952/drawing.html\n",
      "INFO:duckietown_world:Written SVG\n",
      " fn_svg: out/ipython_draw_html/140089966925952/drawing.svg\n"
     ]
    },
    {
     "data": {
      "text/plain": "<IPython.lib.display.IFrame at 0x7f693c98d700>",
      "text/html": "\n        <iframe\n            width=\"100%\"\n            height=\"600\"\n            src=\"out/ipython_draw_html/140089966925952/drawing.html\"\n            frameborder=\"0\"\n            allowfullscreen\n        ></iframe>\n        "
     },
     "metadata": {},
     "output_type": "display_data"
    },
    {
     "name": "stdout",
     "output_type": "stream",
     "text": [
      "<gtduckie.controllers.pure_pursuit.PurePursuit object at 0x7f693c9943a0>\n"
     ]
    }
   ],
   "source": [
    "m = dw.load_map('loop_obstacles')\n",
    "ipython_draw_html(m)\n",
    "\n",
    "pure_pursuit = PurePursuit()\n",
    "print(pure_pursuit)\n"
   ],
   "metadata": {
    "collapsed": false,
    "pycharm": {
     "name": "#%%\n"
    }
   }
  }
 ],
 "metadata": {
  "kernelspec": {
   "display_name": "Python 3",
   "language": "python",
   "name": "python3"
  },
  "language_info": {
   "codemirror_mode": {
    "name": "ipython",
    "version": 2
   },
   "file_extension": ".py",
   "mimetype": "text/x-python",
   "name": "python",
   "nbconvert_exporter": "python",
   "pygments_lexer": "ipython2",
   "version": "2.7.6"
  },
  "pycharm": {
   "stem_cell": {
    "cell_type": "raw",
    "source": [
     "\n"
    ],
    "metadata": {
     "collapsed": false
    }
   }
  }
 },
 "nbformat": 4,
 "nbformat_minor": 0
}
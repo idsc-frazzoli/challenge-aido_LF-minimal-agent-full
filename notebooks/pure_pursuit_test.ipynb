{
 "cells": [
  {
   "cell_type": "code",
   "execution_count": 3,
   "outputs": [
    {
     "name": "stderr",
     "output_type": "stream",
     "text": [
      "INFO:duckietown_world.world_duckietown:loading map small_loop\n",
      "INFO:duckietown_world: area: RectangularArea(pmin=[0. 0.],pmax=[1.70117997 1.70117997])\n",
      "DEBUG:commons.fs:Written 0.2MB to: out/ipython_draw_html/140609006488400/drawing.html\n",
      "INFO:duckietown_world:Written SVG\n",
      " fn_svg: out/ipython_draw_html/140609006488400/drawing.svg\n"
     ]
    },
    {
     "data": {
      "text/plain": "<IPython.lib.display.IFrame at 0x7fe215e4e0a0>",
      "text/html": "\n        <iframe\n            width=\"100%\"\n            height=\"600\"\n            src=\"out/ipython_draw_html/140609006488400/drawing.html\"\n            frameborder=\"0\"\n            allowfullscreen\n        ></iframe>\n        "
     },
     "metadata": {},
     "output_type": "display_data"
    }
   ],
   "source": [
    "from random import choice\n",
    "import duckietown_world as dw\n",
    "\n",
    "from duckietown_world.svg_drawing.ipython_utils import ipython_draw_html\n",
    "from duckietown_world.world_duckietown.sampling_poses import sample_good_starting_pose\n",
    "\n",
    "available_map = dw.list_maps()\n",
    "m = dw.load_map(choice(available_map))\n",
    "ipython_draw_html(m);\n",
    "q = sample_good_starting_pose(m, only_straight=False, along_lane=0.02)"
   ],
   "metadata": {
    "collapsed": false,
    "pycharm": {
     "name": "#%%\n"
    }
   }
  },
  {
   "cell_type": "code",
   "execution_count": 4,
   "outputs": [
    {
     "name": "stdout",
     "output_type": "stream",
     "text": [
      "<gtduckie.controllers.pure_pursuit.PurePursuit object at 0x7fe2185af430>\n",
      "<gtduckie.controllers.speed.SpeedController object at 0x7fe2185af4f0>\n"
     ]
    }
   ],
   "source": [
    "from gtduckie.controllers import PurePursuit, SpeedController\n",
    "\n",
    "pure_pursuit: PurePursuit = PurePursuit()\n",
    "speed_controller: SpeedController = SpeedController()\n",
    "speed_controller.update_reference(0.1)\n",
    "pure_pursuit.update_pose(q)\n",
    "pure_pursuit.update_speed(0)\n",
    "\n",
    "print(pure_pursuit)\n",
    "print(speed_controller)\n"
   ],
   "metadata": {
    "collapsed": false,
    "pycharm": {
     "name": "#%%\n"
    }
   }
  },
  {
   "cell_type": "code",
   "execution_count": 2,
   "outputs": [],
   "source": [
    "\n",
    "\n",
    "\n"
   ],
   "metadata": {
    "collapsed": false,
    "pycharm": {
     "name": "#%%\n"
    }
   }
  }
 ],
 "metadata": {
  "kernelspec": {
   "display_name": "Python 3",
   "language": "python",
   "name": "python3"
  },
  "language_info": {
   "codemirror_mode": {
    "name": "ipython",
    "version": 2
   },
   "file_extension": ".py",
   "mimetype": "text/x-python",
   "name": "python",
   "nbconvert_exporter": "python",
   "pygments_lexer": "ipython2",
   "version": "2.7.6"
  }
 },
 "nbformat": 4,
 "nbformat_minor": 0
}